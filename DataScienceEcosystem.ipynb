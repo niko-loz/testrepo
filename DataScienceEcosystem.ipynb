{
 "cells": [
  {
   "cell_type": "markdown",
   "id": "06065fc6-8517-454c-b680-79c4e47c72c6",
   "metadata": {},
   "source": [
    "# Data Science Tools and Ecosystem"
   ]
  },
  {
   "cell_type": "markdown",
   "id": "3a3ccc03-46fe-4227-a2b2-f3583800ba39",
   "metadata": {},
   "source": [
    "In this notebook, Data Science Tools and Ecosystem are summarized."
   ]
  },
  {
   "cell_type": "markdown",
   "id": "15ebec87-269b-4959-9b26-6ee08e625204",
   "metadata": {},
   "source": [
    "## Author\n",
    "Nikoloz Loladze"
   ]
  },
  {
   "cell_type": "markdown",
   "id": "a61a94ab-dc17-49e4-a839-2fad5029c3d1",
   "metadata": {},
   "source": [
    "__Objectives:__\n",
    "- Learn Python\n",
    "- Learn R\n",
    "- Learn SQL\n",
    "- Learn Jupyter Notebook\n",
    "- Learn Anaconda"
   ]
  },
  {
   "cell_type": "markdown",
   "id": "e63d3f40-c687-4f8c-939f-4bfd2361e221",
   "metadata": {},
   "source": [
    "Some of the popular languages that Data Scientists use are:\n",
    "1. Python\n",
    "2. R\n",
    "3. SQL\n",
    "4. Julia\n",
    "5. Scala\n",
    "6. etc...\n"
   ]
  },
  {
   "cell_type": "markdown",
   "id": "372d137a-ce00-4a2a-ae31-c87e61a58940",
   "metadata": {},
   "source": [
    "Someof the libraries commonly used by Data Scientists include:\n",
    "1. NumPy (Python library)\n",
    "2. pandas (Python library)\n",
    "3. Matplotlib (Python library)\n",
    "4. ggplot2 (R library)\n",
    "5. dplyr (R library)\n",
    "6. caret (R library)\n",
    "7. etc...\n"
   ]
  },
  {
   "cell_type": "markdown",
   "id": "4fb77622-d5d9-44ef-bda7-83002b53fa66",
   "metadata": {},
   "source": [
    "| Data Science Tools |\n",
    "| -------------------|\n",
    "| Jupyter Notebook   |\n",
    "| RStudio            | \n",
    "| Apache Zeppelin    |"
   ]
  },
  {
   "cell_type": "markdown",
   "id": "5e99088c-068c-4134-b240-e91e3b6c27c4",
   "metadata": {},
   "source": [
    "### Below are a few examples of evaluating arithmetic expressions in Python"
   ]
  },
  {
   "cell_type": "code",
   "execution_count": 12,
   "id": "b8d83771-c368-4ec8-8378-994fadec519a",
   "metadata": {},
   "outputs": [
    {
     "data": {
      "text/plain": [
       "17"
      ]
     },
     "execution_count": 12,
     "metadata": {},
     "output_type": "execute_result"
    }
   ],
   "source": [
    "# This is a simple arithmetic expression for multiplying, then adding integers \n",
    "(3*4)+5"
   ]
  },
  {
   "cell_type": "code",
   "execution_count": 28,
   "id": "c6210a74-3134-49af-bdcc-305b05122742",
   "metadata": {},
   "outputs": [
    {
     "data": {
      "text/plain": [
       "3.3333333333333335"
      ]
     },
     "execution_count": 28,
     "metadata": {},
     "output_type": "execute_result"
    }
   ],
   "source": [
    "# This will convert 200 minutes to hours by dividing by 60\n",
    "minutes = 200  # change this value as needed\n",
    "hours = minutes/60\n",
    "hours"
   ]
  },
  {
   "cell_type": "code",
   "execution_count": null,
   "id": "b6c2890f-7a40-4ec5-b54e-167d1a195292",
   "metadata": {},
   "outputs": [],
   "source": []
  }
 ],
 "metadata": {
  "kernelspec": {
   "display_name": "Python [conda env:base] *",
   "language": "python",
   "name": "conda-base-py"
  },
  "language_info": {
   "codemirror_mode": {
    "name": "ipython",
    "version": 3
   },
   "file_extension": ".py",
   "mimetype": "text/x-python",
   "name": "python",
   "nbconvert_exporter": "python",
   "pygments_lexer": "ipython3",
   "version": "3.12.7"
  }
 },
 "nbformat": 4,
 "nbformat_minor": 5
}
